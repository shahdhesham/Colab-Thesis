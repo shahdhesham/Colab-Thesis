{
  "nbformat": 4,
  "nbformat_minor": 0,
  "metadata": {
    "colab": {
      "provenance": [],
      "gpuType": "A100",
      "authorship_tag": "ABX9TyNb/4wubYuK7UPAev5hfMlC",
      "include_colab_link": true
    },
    "kernelspec": {
      "name": "python3",
      "display_name": "Python 3"
    },
    "language_info": {
      "name": "python"
    },
    "accelerator": "GPU"
  },
  "cells": [
    {
      "cell_type": "markdown",
      "metadata": {
        "id": "view-in-github",
        "colab_type": "text"
      },
      "source": [
        "<a href=\"https://colab.research.google.com/github/shahdhesham/Colab-Thesis/blob/main/Magicoder_Set1_ZeroShot.ipynb\" target=\"_parent\"><img src=\"https://colab.research.google.com/assets/colab-badge.svg\" alt=\"Open In Colab\"/></a>"
      ]
    },
    {
      "cell_type": "code",
      "source": [
        "import os\n",
        "os.environ['PYTORCH_CUDA_ALLOC_CONF'] = 'expandable_segments:True'\n"
      ],
      "metadata": {
        "id": "2RK_wmkgraY2"
      },
      "execution_count": null,
      "outputs": []
    },
    {
      "cell_type": "code",
      "source": [
        "import torch\n",
        "\n",
        "if torch.cuda.is_available():\n",
        "    print(\"CUDA is available! Using GPU.\")\n",
        "    print(f\"GPU device name: {torch.cuda.get_device_name(0)}\")\n",
        "else:\n",
        "    print(\"CUDA NOT available. Using CPU.\")"
      ],
      "metadata": {
        "colab": {
          "base_uri": "https://localhost:8080/"
        },
        "id": "5mEYvTBnn6zT",
        "outputId": "f1b30b9b-6de0-4d27-dc24-c0c87e5723a6"
      },
      "execution_count": null,
      "outputs": [
        {
          "output_type": "stream",
          "name": "stdout",
          "text": [
            "CUDA is available! Using GPU.\n",
            "GPU device name: NVIDIA A100-SXM4-40GB\n"
          ]
        }
      ]
    },
    {
      "cell_type": "code",
      "source": [
        "!free -h"
      ],
      "metadata": {
        "colab": {
          "base_uri": "https://localhost:8080/"
        },
        "id": "88ewvaj1xf_I",
        "outputId": "d20e9031-5c1e-43b5-e5e2-d405d81b49d0"
      },
      "execution_count": null,
      "outputs": [
        {
          "output_type": "stream",
          "name": "stdout",
          "text": [
            "               total        used        free      shared  buff/cache   available\n",
            "Mem:            83Gi       1.2Gi        76Gi       1.0Mi       5.4Gi        81Gi\n",
            "Swap:             0B          0B          0B\n"
          ]
        }
      ]
    },
    {
      "cell_type": "code",
      "source": [
        "from google.colab import files\n",
        "import zipfile\n",
        "import torch\n",
        "\n",
        "import os\n",
        "from transformers import AutoModelForCausalLM, AutoTokenizer"
      ],
      "metadata": {
        "id": "n-Da-BGRnfyp"
      },
      "execution_count": null,
      "outputs": []
    },
    {
      "cell_type": "code",
      "source": [
        "# 1. Upload ZIP file\n",
        "print(\"Upload your ZIP file containing .c files:\")\n",
        "uploaded = files.upload()\n",
        "zip_name = next(iter(uploaded))\n",
        "\n",
        "# 2. Extract ZIP\n",
        "with zipfile.ZipFile(zip_name, 'r') as z:\n",
        "    z.extractall('input_folder')\n",
        "print(\"Files extracted to 'input_folder/'\")"
      ],
      "metadata": {
        "id": "iE8ENLicnhrW"
      },
      "execution_count": null,
      "outputs": []
    },
    {
      "cell_type": "code",
      "source": [
        "# 3. Load model\n",
        "model = AutoModelForCausalLM.from_pretrained(\n",
        "    \"ise-uiuc/Magicoder-S-CL-7B\",\n",
        "    device_map=\"auto\",\n",
        "    torch_dtype=torch.bfloat16\n",
        ")\n",
        "tokenizer = AutoTokenizer.from_pretrained(\"ise-uiuc/Magicoder-S-CL-7B\")\n",
        "tokenizer.pad_token = tokenizer.eos_token  # Add this line\n"
      ],
      "metadata": {
        "id": "H8puyVD7nkaK"
      },
      "execution_count": null,
      "outputs": []
    },
    {
      "cell_type": "code",
      "source": [
        "# # Core translation function_Intial\n",
        "# def translate(c_code):\n",
        "#     prompt =  f\"\"\"\n",
        "#     You are an expert code translator. Your ONLY task is to convert c++ code to c code.\n",
        "#     Rules you MUST follow:\n",
        "#     1. Output ONLY executable C code\n",
        "#     2. Never include markdown or explanations\n",
        "#     3. Preserve all functionality exactly\n",
        "#     4. Use standard C libraries\n",
        "#     5. Match the original code's input/output behavior\n",
        "\n",
        "#     C:\n",
        "#     {c_code}\n",
        "\n",
        "#     \"\"\"\n",
        "\n",
        "#     inputs = tokenizer(prompt, return_tensors=\"pt\").to(model.device)\n",
        "#     outputs = model.generate(**inputs, max_new_tokens=512) #context window size\n",
        "#     return tokenizer.decode(outputs[0], skip_special_tokens=True).split(\"C++:\")[-1].strip()\n",
        "#     # return tokenizer.decode(outputs[0], skip_special_tokens=True).split(\"@@ Response\")[-1].strip()\n"
      ],
      "metadata": {
        "id": "PjzwMQSQnqT1"
      },
      "execution_count": null,
      "outputs": []
    },
    {
      "cell_type": "code",
      "source": [
        "#BATCHING\n",
        "def translate_batch(c_code_list):\n",
        "    # Prepare prompt list for each input code\n",
        "    prompts = []\n",
        "    for c_code in c_code_list:\n",
        "        prompt = f\"\"\"\n",
        "You are an expert code translator. Your ONLY task is to convert c++ code to c code.\n",
        "Rules you MUST follow:\n",
        "1. Output ONLY executable C++ code\n",
        "2. Never include markdown or explanations\n",
        "3. Preserve all functionality exactly\n",
        "4. Use standard C++ libraries\n",
        "5. Match the original code's input/output behavior\n",
        "\n",
        "C:\n",
        "{c_code}\n",
        "\"\"\"\n",
        "        prompts.append(prompt)\n",
        "\n",
        "    # Tokenize with padding for batch processing\n",
        "    inputs = tokenizer(prompts, padding=True, return_tensors=\"pt\").to(model.device)\n",
        "\n",
        "    # Generate outputs for the whole batch\n",
        "    outputs = model.generate(**inputs, max_new_tokens=512)\n",
        "\n",
        "    # Decode each output separately and clean it up\n",
        "    results = []\n",
        "    for output in outputs:\n",
        "        decoded = tokenizer.decode(output, skip_special_tokens=True)\n",
        "        # Assuming the translation starts after \"C++:\" marker (adjust if needed)\n",
        "        translation = decoded.split(\"C++:\")[-1].strip()\n",
        "        results.append(translation)\n",
        "\n",
        "    return results"
      ],
      "metadata": {
        "id": "mFDUdholneNN"
      },
      "execution_count": null,
      "outputs": []
    },
    {
      "cell_type": "code",
      "source": [
        "#batching\n",
        "batch_size = 4\n",
        "batch_files = []\n",
        "batch_codes = []\n",
        "batch_paths = []\n",
        "\n",
        "for root, _, files in os.walk('input_folder'):\n",
        "    for file in files:\n",
        "        if file.endswith('.c'):\n",
        "            in_path = os.path.join(root, file)\n",
        "            out_path = in_path.replace('input_folder', 'output_folder').replace('.c', '.cpp')\n",
        "            os.makedirs(os.path.dirname(out_path), exist_ok=True)\n",
        "\n",
        "            with open(in_path, 'r') as f:\n",
        "                code = f.read()\n",
        "\n",
        "            batch_files.append(file)\n",
        "            batch_codes.append(code)\n",
        "            batch_paths.append((in_path, out_path))\n",
        "\n",
        "            # Once batch is full, translate all at once\n",
        "            if len(batch_codes) == batch_size:\n",
        "                translations = translate_batch(batch_codes)\n",
        "                for (in_p, out_p), translation in zip(batch_paths, translations):\n",
        "                    with open(out_p, 'w') as f_out:\n",
        "                        f_out.write(translation)\n",
        "                    print(f\"Translated: {in_p} → {out_p}\")\n",
        "\n",
        "                import gc\n",
        "                gc.collect()\n",
        "                torch.cuda.empty_cache()\n",
        "                # Clear batch lists\n",
        "                batch_files = []\n",
        "                batch_codes = []\n",
        "                batch_paths = []\n",
        "\n",
        "\n",
        "\n",
        "\n",
        "# Translate any remaining files smaller than batch size\n",
        "if batch_codes:\n",
        "    translations = translate_batch(batch_codes)\n",
        "    for (in_p, out_p), translation in zip(batch_paths, translations):\n",
        "        with open(out_p, 'w') as f_out:\n",
        "            f_out.write(translation)\n",
        "        print(f\"Translated: {in_p} → {out_p}\")"
      ],
      "metadata": {
        "id": "OzH0luBDmrnn"
      },
      "execution_count": null,
      "outputs": []
    },
    {
      "cell_type": "code",
      "source": [
        "# # 5. Process all .c files - INTIAL\n",
        "# for root, _, files in os.walk('input_folder'):\n",
        "#     for file in files:\n",
        "#         if file.endswith('.c'):\n",
        "#             # Set paths\n",
        "#             in_path = os.path.join(root, file)\n",
        "#             out_path = in_path.replace('input_folder', 'output_folder').replace('.c', '.cpp')\n",
        "#             os.makedirs(os.path.dirname(out_path), exist_ok=True)\n",
        "\n",
        "#             # Translate\n",
        "#             with open(in_path, 'r') as f:\n",
        "#                 c_code = f.read()\n",
        "#             cpp_code = translate(c_code)\n",
        "\n",
        "#             # Save\n",
        "#             with open(out_path, 'w') as f:\n",
        "#                 f.write(cpp_code)\n",
        "#             print(f\"Translated: {in_path} → {out_path}\")"
      ],
      "metadata": {
        "id": "_82o5KownsjU"
      },
      "execution_count": null,
      "outputs": []
    },
    {
      "cell_type": "code",
      "source": [
        "from google.colab import files as colab_files  # CHANGED: Added alias"
      ],
      "metadata": {
        "id": "--MUtWx879A5"
      },
      "execution_count": null,
      "outputs": []
    },
    {
      "cell_type": "code",
      "source": [
        "# 6. Compress and download\n",
        "print(\"\\nCreating output ZIP...\")\n",
        "!zip -r output.zip output_folder\n",
        "colab_files.download('output.zip')  # CHANGED: Uses alias\n",
        "print(\"Done! Download should start automatically.\")"
      ],
      "metadata": {
        "id": "hGn0Wbvo4gFL"
      },
      "execution_count": null,
      "outputs": []
    },
    {
      "cell_type": "code",
      "source": [
        "print(model.generation_config)\n"
      ],
      "metadata": {
        "id": "pSSnQ1-b53Wr"
      },
      "execution_count": null,
      "outputs": []
    }
  ]
}