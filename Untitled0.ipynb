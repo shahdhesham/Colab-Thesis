{
  "nbformat": 4,
  "nbformat_minor": 0,
  "metadata": {
    "colab": {
      "provenance": [],
      "gpuType": "T4",
      "authorship_tag": "ABX9TyM3nWxYqMsris003brsPtJm",
      "include_colab_link": true
    },
    "kernelspec": {
      "name": "python3",
      "display_name": "Python 3"
    },
    "language_info": {
      "name": "python"
    },
    "accelerator": "GPU",
    "widgets": {
      "application/vnd.jupyter.widget-state+json": {
        "d13b529d4de944e4ab90868da052feba": {
          "model_module": "@jupyter-widgets/controls",
          "model_name": "HBoxModel",
          "model_module_version": "1.5.0",
          "state": {
            "_dom_classes": [],
            "_model_module": "@jupyter-widgets/controls",
            "_model_module_version": "1.5.0",
            "_model_name": "HBoxModel",
            "_view_count": null,
            "_view_module": "@jupyter-widgets/controls",
            "_view_module_version": "1.5.0",
            "_view_name": "HBoxView",
            "box_style": "",
            "children": [
              "IPY_MODEL_0e801063fbbb472d9708434187faee47",
              "IPY_MODEL_ba143d2c13c447a1b93f710e6fcc56fa",
              "IPY_MODEL_cc56e65594b54a95b80f559ea90341fb"
            ],
            "layout": "IPY_MODEL_aebb34da99d84c9bac0f41302b8ed495"
          }
        },
        "0e801063fbbb472d9708434187faee47": {
          "model_module": "@jupyter-widgets/controls",
          "model_name": "HTMLModel",
          "model_module_version": "1.5.0",
          "state": {
            "_dom_classes": [],
            "_model_module": "@jupyter-widgets/controls",
            "_model_module_version": "1.5.0",
            "_model_name": "HTMLModel",
            "_view_count": null,
            "_view_module": "@jupyter-widgets/controls",
            "_view_module_version": "1.5.0",
            "_view_name": "HTMLView",
            "description": "",
            "description_tooltip": null,
            "layout": "IPY_MODEL_8feac913b3a54ac0ab06f5d235faffd9",
            "placeholder": "​",
            "style": "IPY_MODEL_708efb7639c44325819ee208bfbc1ab0",
            "value": "Loading checkpoint shards: 100%"
          }
        },
        "ba143d2c13c447a1b93f710e6fcc56fa": {
          "model_module": "@jupyter-widgets/controls",
          "model_name": "FloatProgressModel",
          "model_module_version": "1.5.0",
          "state": {
            "_dom_classes": [],
            "_model_module": "@jupyter-widgets/controls",
            "_model_module_version": "1.5.0",
            "_model_name": "FloatProgressModel",
            "_view_count": null,
            "_view_module": "@jupyter-widgets/controls",
            "_view_module_version": "1.5.0",
            "_view_name": "ProgressView",
            "bar_style": "success",
            "description": "",
            "description_tooltip": null,
            "layout": "IPY_MODEL_2ca1bfc8a77540968e2821fcc372127a",
            "max": 4,
            "min": 0,
            "orientation": "horizontal",
            "style": "IPY_MODEL_ad3f128329794e55a5d2da8e48eb5efa",
            "value": 4
          }
        },
        "cc56e65594b54a95b80f559ea90341fb": {
          "model_module": "@jupyter-widgets/controls",
          "model_name": "HTMLModel",
          "model_module_version": "1.5.0",
          "state": {
            "_dom_classes": [],
            "_model_module": "@jupyter-widgets/controls",
            "_model_module_version": "1.5.0",
            "_model_name": "HTMLModel",
            "_view_count": null,
            "_view_module": "@jupyter-widgets/controls",
            "_view_module_version": "1.5.0",
            "_view_name": "HTMLView",
            "description": "",
            "description_tooltip": null,
            "layout": "IPY_MODEL_794ce724d1364365af04fc14f12bc59b",
            "placeholder": "​",
            "style": "IPY_MODEL_dd6861cd723c4f709a709436cd981d66",
            "value": " 4/4 [01:37&lt;00:00, 20.81s/it]"
          }
        },
        "aebb34da99d84c9bac0f41302b8ed495": {
          "model_module": "@jupyter-widgets/base",
          "model_name": "LayoutModel",
          "model_module_version": "1.2.0",
          "state": {
            "_model_module": "@jupyter-widgets/base",
            "_model_module_version": "1.2.0",
            "_model_name": "LayoutModel",
            "_view_count": null,
            "_view_module": "@jupyter-widgets/base",
            "_view_module_version": "1.2.0",
            "_view_name": "LayoutView",
            "align_content": null,
            "align_items": null,
            "align_self": null,
            "border": null,
            "bottom": null,
            "display": null,
            "flex": null,
            "flex_flow": null,
            "grid_area": null,
            "grid_auto_columns": null,
            "grid_auto_flow": null,
            "grid_auto_rows": null,
            "grid_column": null,
            "grid_gap": null,
            "grid_row": null,
            "grid_template_areas": null,
            "grid_template_columns": null,
            "grid_template_rows": null,
            "height": null,
            "justify_content": null,
            "justify_items": null,
            "left": null,
            "margin": null,
            "max_height": null,
            "max_width": null,
            "min_height": null,
            "min_width": null,
            "object_fit": null,
            "object_position": null,
            "order": null,
            "overflow": null,
            "overflow_x": null,
            "overflow_y": null,
            "padding": null,
            "right": null,
            "top": null,
            "visibility": null,
            "width": null
          }
        },
        "8feac913b3a54ac0ab06f5d235faffd9": {
          "model_module": "@jupyter-widgets/base",
          "model_name": "LayoutModel",
          "model_module_version": "1.2.0",
          "state": {
            "_model_module": "@jupyter-widgets/base",
            "_model_module_version": "1.2.0",
            "_model_name": "LayoutModel",
            "_view_count": null,
            "_view_module": "@jupyter-widgets/base",
            "_view_module_version": "1.2.0",
            "_view_name": "LayoutView",
            "align_content": null,
            "align_items": null,
            "align_self": null,
            "border": null,
            "bottom": null,
            "display": null,
            "flex": null,
            "flex_flow": null,
            "grid_area": null,
            "grid_auto_columns": null,
            "grid_auto_flow": null,
            "grid_auto_rows": null,
            "grid_column": null,
            "grid_gap": null,
            "grid_row": null,
            "grid_template_areas": null,
            "grid_template_columns": null,
            "grid_template_rows": null,
            "height": null,
            "justify_content": null,
            "justify_items": null,
            "left": null,
            "margin": null,
            "max_height": null,
            "max_width": null,
            "min_height": null,
            "min_width": null,
            "object_fit": null,
            "object_position": null,
            "order": null,
            "overflow": null,
            "overflow_x": null,
            "overflow_y": null,
            "padding": null,
            "right": null,
            "top": null,
            "visibility": null,
            "width": null
          }
        },
        "708efb7639c44325819ee208bfbc1ab0": {
          "model_module": "@jupyter-widgets/controls",
          "model_name": "DescriptionStyleModel",
          "model_module_version": "1.5.0",
          "state": {
            "_model_module": "@jupyter-widgets/controls",
            "_model_module_version": "1.5.0",
            "_model_name": "DescriptionStyleModel",
            "_view_count": null,
            "_view_module": "@jupyter-widgets/base",
            "_view_module_version": "1.2.0",
            "_view_name": "StyleView",
            "description_width": ""
          }
        },
        "2ca1bfc8a77540968e2821fcc372127a": {
          "model_module": "@jupyter-widgets/base",
          "model_name": "LayoutModel",
          "model_module_version": "1.2.0",
          "state": {
            "_model_module": "@jupyter-widgets/base",
            "_model_module_version": "1.2.0",
            "_model_name": "LayoutModel",
            "_view_count": null,
            "_view_module": "@jupyter-widgets/base",
            "_view_module_version": "1.2.0",
            "_view_name": "LayoutView",
            "align_content": null,
            "align_items": null,
            "align_self": null,
            "border": null,
            "bottom": null,
            "display": null,
            "flex": null,
            "flex_flow": null,
            "grid_area": null,
            "grid_auto_columns": null,
            "grid_auto_flow": null,
            "grid_auto_rows": null,
            "grid_column": null,
            "grid_gap": null,
            "grid_row": null,
            "grid_template_areas": null,
            "grid_template_columns": null,
            "grid_template_rows": null,
            "height": null,
            "justify_content": null,
            "justify_items": null,
            "left": null,
            "margin": null,
            "max_height": null,
            "max_width": null,
            "min_height": null,
            "min_width": null,
            "object_fit": null,
            "object_position": null,
            "order": null,
            "overflow": null,
            "overflow_x": null,
            "overflow_y": null,
            "padding": null,
            "right": null,
            "top": null,
            "visibility": null,
            "width": null
          }
        },
        "ad3f128329794e55a5d2da8e48eb5efa": {
          "model_module": "@jupyter-widgets/controls",
          "model_name": "ProgressStyleModel",
          "model_module_version": "1.5.0",
          "state": {
            "_model_module": "@jupyter-widgets/controls",
            "_model_module_version": "1.5.0",
            "_model_name": "ProgressStyleModel",
            "_view_count": null,
            "_view_module": "@jupyter-widgets/base",
            "_view_module_version": "1.2.0",
            "_view_name": "StyleView",
            "bar_color": null,
            "description_width": ""
          }
        },
        "794ce724d1364365af04fc14f12bc59b": {
          "model_module": "@jupyter-widgets/base",
          "model_name": "LayoutModel",
          "model_module_version": "1.2.0",
          "state": {
            "_model_module": "@jupyter-widgets/base",
            "_model_module_version": "1.2.0",
            "_model_name": "LayoutModel",
            "_view_count": null,
            "_view_module": "@jupyter-widgets/base",
            "_view_module_version": "1.2.0",
            "_view_name": "LayoutView",
            "align_content": null,
            "align_items": null,
            "align_self": null,
            "border": null,
            "bottom": null,
            "display": null,
            "flex": null,
            "flex_flow": null,
            "grid_area": null,
            "grid_auto_columns": null,
            "grid_auto_flow": null,
            "grid_auto_rows": null,
            "grid_column": null,
            "grid_gap": null,
            "grid_row": null,
            "grid_template_areas": null,
            "grid_template_columns": null,
            "grid_template_rows": null,
            "height": null,
            "justify_content": null,
            "justify_items": null,
            "left": null,
            "margin": null,
            "max_height": null,
            "max_width": null,
            "min_height": null,
            "min_width": null,
            "object_fit": null,
            "object_position": null,
            "order": null,
            "overflow": null,
            "overflow_x": null,
            "overflow_y": null,
            "padding": null,
            "right": null,
            "top": null,
            "visibility": null,
            "width": null
          }
        },
        "dd6861cd723c4f709a709436cd981d66": {
          "model_module": "@jupyter-widgets/controls",
          "model_name": "DescriptionStyleModel",
          "model_module_version": "1.5.0",
          "state": {
            "_model_module": "@jupyter-widgets/controls",
            "_model_module_version": "1.5.0",
            "_model_name": "DescriptionStyleModel",
            "_view_count": null,
            "_view_module": "@jupyter-widgets/base",
            "_view_module_version": "1.2.0",
            "_view_name": "StyleView",
            "description_width": ""
          }
        }
      }
    }
  },
  "cells": [
    {
      "cell_type": "markdown",
      "metadata": {
        "id": "view-in-github",
        "colab_type": "text"
      },
      "source": [
        "<a href=\"https://colab.research.google.com/github/shahdhesham/Colab-Thesis/blob/main/Untitled0.ipynb\" target=\"_parent\"><img src=\"https://colab.research.google.com/assets/colab-badge.svg\" alt=\"Open In Colab\"/></a>"
      ]
    },
    {
      "cell_type": "markdown",
      "source": [
        "This is using LLama 3"
      ],
      "metadata": {
        "id": "0QqxiMaskTz2"
      }
    },
    {
      "cell_type": "code",
      "execution_count": 12,
      "metadata": {
        "id": "uWAiaEISa_w9"
      },
      "outputs": [],
      "source": [
        "!pip install -q requests torch bitsandbytes transformers sentencepiece accelerate openai"
      ]
    },
    {
      "cell_type": "code",
      "source": [
        "import os\n",
        "import requests\n",
        "from IPython.display import Markdown, display, update_display\n",
        "from openai import OpenAI\n",
        "from google.colab import drive\n",
        "from huggingface_hub import login\n",
        "from google.colab import userdata\n",
        "from transformers import AutoTokenizer, AutoModelForCausalLM, TextStreamer, BitsAndBytesConfig\n",
        "import torch"
      ],
      "metadata": {
        "id": "tAKncqd-bExy"
      },
      "execution_count": 13,
      "outputs": []
    },
    {
      "cell_type": "code",
      "source": [
        "LLAMA = \"meta-llama/Meta-Llama-3.1-8B-Instruct\"\n",
        "CodeT5= \"Salesforce/codet5-base\"\n",
        "RobertaInstruct=\"sw882882/distill-roberta-code-instruction-tune\""
      ],
      "metadata": {
        "id": "W-GwdVhcbPMf"
      },
      "execution_count": 14,
      "outputs": []
    },
    {
      "cell_type": "code",
      "source": [
        "code = \"\"\"\n",
        "#include <stdio.h>\n",
        "\n",
        "int main() {\n",
        "    int a, b, sum = 0;\n",
        "\n",
        "    printf(\"Enter two integers: \");\n",
        "    scanf(\"%d %d\", &a, &b);\n",
        "\n",
        "    sum = a + b;\n",
        "\n",
        "    printf(\"Sum: %d\", sum);\n",
        "\n",
        "    return 0;\n",
        "}\"\"\""
      ],
      "metadata": {
        "id": "v4cGfCuoce_b"
      },
      "execution_count": 15,
      "outputs": []
    },
    {
      "cell_type": "code",
      "source": [
        "system_message = \"You are a helpful assistant that translate code from C language to C++, Python or Java depending on the users request.\"\n",
        "user_prompt = f\"This is the C code that you will translate to python code: .\\n{code}\"\n",
        "\n",
        "messages = [\n",
        "    {\"role\": \"system\", \"content\": system_message},\n",
        "    {\"role\": \"user\", \"content\": user_prompt}\n",
        "  ]\n"
      ],
      "metadata": {
        "id": "yHoGJH0ab_dw"
      },
      "execution_count": 16,
      "outputs": []
    },
    {
      "cell_type": "code",
      "source": [
        "quant_config = BitsAndBytesConfig(\n",
        "    load_in_4bit=True,\n",
        "    bnb_4bit_use_double_quant=True,\n",
        "    bnb_4bit_compute_dtype=torch.bfloat16,\n",
        "    bnb_4bit_quant_type=\"nf4\"\n",
        ")"
      ],
      "metadata": {
        "id": "hJwDkBfnc2TD"
      },
      "execution_count": 17,
      "outputs": []
    },
    {
      "cell_type": "code",
      "source": [
        "!pip install -q gradio\n",
        "\n",
        "import gradio as gr # oh yeah!"
      ],
      "metadata": {
        "id": "ODa0Envnr_IH"
      },
      "execution_count": 18,
      "outputs": []
    },
    {
      "cell_type": "code",
      "source": [],
      "metadata": {
        "id": "gYSYvtw6r3sZ"
      },
      "execution_count": null,
      "outputs": []
    },
    {
      "cell_type": "code",
      "source": [
        "def message_gpt(prompt):\n",
        "    messages = [\n",
        "        {\"role\": \"system\", \"content\": system_message},\n",
        "        {\"role\": \"user\", \"content\": prompt}\n",
        "      ]\n",
        "    tokenizer = AutoTokenizer.from_pretrained(LLAMA)\n",
        "    tokenizer.pad_token = tokenizer.eos_token\n",
        "    inputs = tokenizer.apply_chat_template(messages, return_tensors=\"pt\").to(\"cuda\")\n",
        "    model = AutoModelForCausalLM.from_pretrained(LLAMA, device_map=\"auto\", quantization_config=quant_config) #this is how we create the model (name of model, Use GPU, Quantinzation config)\n",
        "    outputs = model.generate(inputs, max_new_tokens=2000)\n",
        "    response = tokenizer.decode(outputs[0])\n",
        "\n",
        "    return response\n",
        "\n",
        "view = gr.Interface(\n",
        "    fn=message_gpt,\n",
        "    inputs=[gr.Textbox(label=\"C++ Code:\", lines=6)],\n",
        "    outputs=[gr.Textbox(label=\"Translated Python code:\", lines=8)],\n",
        "    flagging_mode=\"never\"\n",
        ")\n",
        "view.launch(share=True)"
      ],
      "metadata": {
        "colab": {
          "base_uri": "https://localhost:8080/",
          "height": 611
        },
        "id": "mqoX6QjHsSKk",
        "outputId": "d4a93627-1e74-458e-80d0-d9aaddb6fcde"
      },
      "execution_count": 19,
      "outputs": [
        {
          "output_type": "stream",
          "name": "stdout",
          "text": [
            "Colab notebook detected. To show errors in colab notebook, set debug=True in launch()\n",
            "* Running on public URL: https://b0e9bb91a0c70544d2.gradio.live\n",
            "\n",
            "This share link expires in 72 hours. For free permanent hosting and GPU upgrades, run `gradio deploy` from the terminal in the working directory to deploy to Hugging Face Spaces (https://huggingface.co/spaces)\n"
          ]
        },
        {
          "output_type": "display_data",
          "data": {
            "text/plain": [
              "<IPython.core.display.HTML object>"
            ],
            "text/html": [
              "<div><iframe src=\"https://b0e9bb91a0c70544d2.gradio.live\" width=\"100%\" height=\"500\" allow=\"autoplay; camera; microphone; clipboard-read; clipboard-write;\" frameborder=\"0\" allowfullscreen></iframe></div>"
            ]
          },
          "metadata": {}
        },
        {
          "output_type": "execute_result",
          "data": {
            "text/plain": []
          },
          "metadata": {},
          "execution_count": 19
        }
      ]
    },
    {
      "cell_type": "code",
      "source": [
        "tokenizer = AutoTokenizer.from_pretrained(LLAMA)\n",
        "tokenizer.pad_token = tokenizer.eos_token\n",
        "inputs = tokenizer.apply_chat_template(messages, return_tensors=\"pt\").to(\"cuda\")\n",
        "streamer = TextStreamer(tokenizer)\n",
        "model = AutoModelForCausalLM.from_pretrained(LLAMA, device_map=\"auto\", quantization_config=quant_config) #this is how we create the model (name of model, Use GPU, Quantinzation config)\n",
        "outputs = model.generate(inputs, max_new_tokens=2000, streamer=streamer)\n",
        "print(tokenizer.decode(outputs[0]))\n"
      ],
      "metadata": {
        "colab": {
          "base_uri": "https://localhost:8080/",
          "height": 1000,
          "referenced_widgets": [
            "d13b529d4de944e4ab90868da052feba",
            "0e801063fbbb472d9708434187faee47",
            "ba143d2c13c447a1b93f710e6fcc56fa",
            "cc56e65594b54a95b80f559ea90341fb",
            "aebb34da99d84c9bac0f41302b8ed495",
            "8feac913b3a54ac0ab06f5d235faffd9",
            "708efb7639c44325819ee208bfbc1ab0",
            "2ca1bfc8a77540968e2821fcc372127a",
            "ad3f128329794e55a5d2da8e48eb5efa",
            "794ce724d1364365af04fc14f12bc59b",
            "dd6861cd723c4f709a709436cd981d66"
          ]
        },
        "id": "UlcQJdKwgj0f",
        "outputId": "359ce607-5520-4431-c279-74c8b32b36b4"
      },
      "execution_count": 20,
      "outputs": [
        {
          "output_type": "display_data",
          "data": {
            "text/plain": [
              "Loading checkpoint shards:   0%|          | 0/4 [00:00<?, ?it/s]"
            ],
            "application/vnd.jupyter.widget-view+json": {
              "version_major": 2,
              "version_minor": 0,
              "model_id": "d13b529d4de944e4ab90868da052feba"
            }
          },
          "metadata": {}
        },
        {
          "output_type": "stream",
          "name": "stderr",
          "text": [
            "The attention mask and the pad token id were not set. As a consequence, you may observe unexpected behavior. Please pass your input's `attention_mask` to obtain reliable results.\n",
            "Setting `pad_token_id` to `eos_token_id`:None for open-end generation.\n"
          ]
        },
        {
          "output_type": "stream",
          "name": "stdout",
          "text": [
            "<|begin_of_text|><|start_header_id|>system<|end_header_id|>\n",
            "\n",
            "Cutting Knowledge Date: December 2023\n",
            "Today Date: 26 Jul 2024\n",
            "\n",
            "You are a helpful assistant that translate code from C language to C++, Python or Java depending on the users request.<|eot_id|><|start_header_id|>user<|end_header_id|>\n",
            "\n",
            "This is the C code that you will translate to python code:.\n",
            "\n",
            "#include <stdio.h>\n",
            "\n",
            "int main() {\n",
            "    int a, b, sum = 0;\n",
            "\n",
            "    printf(\"Enter two integers: \");\n",
            "    scanf(\"%d %d\", &a, &b);\n",
            "\n",
            "    sum = a + b;\n",
            "\n",
            "    printf(\"Sum: %d\", sum);\n",
            "\n",
            "    return 0;\n",
            "}<|eot_id|><|start_header_id|>assistant<|end_header_id|>\n",
            "\n",
            "Here's the equivalent Python code:\n",
            "\n",
            "```python\n",
            "# Python code to calculate the sum of two integers\n",
            "\n",
            "def main():\n",
            "    # Get two integers from the user\n",
            "    a = int(input(\"Enter the first integer: \"))\n",
            "    b = int(input(\"Enter the second integer: \"))\n",
            "\n",
            "    # Calculate the sum\n",
            "    sum = a + b\n",
            "\n",
            "    # Print the sum\n",
            "    print(\"Sum:\", sum)\n",
            "\n",
            "if __name__ == \"__main__\":\n",
            "    main()\n",
            "```\n",
            "\n",
            "However, a more Pythonic way to write this code is:\n",
            "\n",
            "```python\n",
            "# Python code to calculate the sum of two integers\n",
            "\n",
            "def get_integer(prompt):\n",
            "    \"\"\"Get an integer from the user\"\"\"\n",
            "    while True:\n",
            "        try:\n",
            "            return int(input(prompt))\n",
            "        except ValueError:\n",
            "            print(\"Invalid input. Please enter an integer.\")\n",
            "\n",
            "def main():\n",
            "    # Get two integers from the user\n",
            "    a = get_integer(\"Enter the first integer: \")\n",
            "    b = get_integer(\"Enter the second integer: \")\n",
            "\n",
            "    # Calculate the sum\n",
            "    sum = a + b\n",
            "\n",
            "    # Print the sum\n",
            "    print(\"Sum:\", sum)\n",
            "\n",
            "if __name__ == \"__main__\":\n",
            "    main()\n",
            "```\n",
            "\n",
            "This version includes a `get_integer` function to handle invalid inputs and make the code more robust.<|eot_id|>\n",
            "<|begin_of_text|><|start_header_id|>system<|end_header_id|>\n",
            "\n",
            "Cutting Knowledge Date: December 2023\n",
            "Today Date: 26 Jul 2024\n",
            "\n",
            "You are a helpful assistant that translate code from C language to C++, Python or Java depending on the users request.<|eot_id|><|start_header_id|>user<|end_header_id|>\n",
            "\n",
            "This is the C code that you will translate to python code:.\n",
            "\n",
            "#include <stdio.h>\n",
            "\n",
            "int main() {\n",
            "    int a, b, sum = 0;\n",
            "\n",
            "    printf(\"Enter two integers: \");\n",
            "    scanf(\"%d %d\", &a, &b);\n",
            "\n",
            "    sum = a + b;\n",
            "\n",
            "    printf(\"Sum: %d\", sum);\n",
            "\n",
            "    return 0;\n",
            "}<|eot_id|><|start_header_id|>assistant<|end_header_id|>\n",
            "\n",
            "Here's the equivalent Python code:\n",
            "\n",
            "```python\n",
            "# Python code to calculate the sum of two integers\n",
            "\n",
            "def main():\n",
            "    # Get two integers from the user\n",
            "    a = int(input(\"Enter the first integer: \"))\n",
            "    b = int(input(\"Enter the second integer: \"))\n",
            "\n",
            "    # Calculate the sum\n",
            "    sum = a + b\n",
            "\n",
            "    # Print the sum\n",
            "    print(\"Sum:\", sum)\n",
            "\n",
            "if __name__ == \"__main__\":\n",
            "    main()\n",
            "```\n",
            "\n",
            "However, a more Pythonic way to write this code is:\n",
            "\n",
            "```python\n",
            "# Python code to calculate the sum of two integers\n",
            "\n",
            "def get_integer(prompt):\n",
            "    \"\"\"Get an integer from the user\"\"\"\n",
            "    while True:\n",
            "        try:\n",
            "            return int(input(prompt))\n",
            "        except ValueError:\n",
            "            print(\"Invalid input. Please enter an integer.\")\n",
            "\n",
            "def main():\n",
            "    # Get two integers from the user\n",
            "    a = get_integer(\"Enter the first integer: \")\n",
            "    b = get_integer(\"Enter the second integer: \")\n",
            "\n",
            "    # Calculate the sum\n",
            "    sum = a + b\n",
            "\n",
            "    # Print the sum\n",
            "    print(\"Sum:\", sum)\n",
            "\n",
            "if __name__ == \"__main__\":\n",
            "    main()\n",
            "```\n",
            "\n",
            "This version includes a `get_integer` function to handle invalid inputs and make the code more robust.<|eot_id|>\n"
          ]
        }
      ]
    },
    {
      "cell_type": "code",
      "source": [
        "response = tokenizer.decode(outputs[0])\n",
        "display(Markdown(response))"
      ],
      "metadata": {
        "colab": {
          "base_uri": "https://localhost:8080/",
          "height": 981
        },
        "id": "jE6SYsGoi58N",
        "outputId": "c7450941-6553-49a9-9a84-ad2d01890094"
      },
      "execution_count": null,
      "outputs": [
        {
          "output_type": "display_data",
          "data": {
            "text/plain": [
              "<IPython.core.display.Markdown object>"
            ],
            "text/markdown": "<|begin_of_text|><|start_header_id|>system<|end_header_id|>\n\nCutting Knowledge Date: December 2023\nToday Date: 26 Jul 2024\n\nYou are a helpful assistant that translate code from C language to C++, Python or Java depending on the users request.<|eot_id|><|start_header_id|>user<|end_header_id|>\n\nThis is the C code that you will translate to python code:.\n\n#include <stdio.h>\n\nint main() {\n    int a, b, sum = 0;\n  \n    printf(\"Enter two integers: \");\n    scanf(\"%d %d\", &a, &b);\n\n    sum = a + b;\n\n    printf(\"Sum: %d\", sum);\n\n    return 0;\n}<|eot_id|><|start_header_id|>assistant<|end_header_id|>\n\nHere's the equivalent Python code for the given C code:\n\n```python\n# Python code for the given C code\n\ndef main():\n    # Ask the user to enter two integers\n    a = int(input(\"Enter two integers: \"))\n    b = int(input(\"Enter two integers: \"))\n\n    # Calculate the sum of the two integers\n    sum = a + b\n\n    # Print the sum\n    print(\"Sum:\", sum)\n\nif __name__ == \"__main__\":\n    main()\n```\n\nHowever, we can make the code more Pythonic and user-friendly by asking the user to enter two integers in a single line:\n\n```python\n# Python code for the given C code\n\ndef main():\n    # Ask the user to enter two integers in a single line\n    a, b = map(int, input(\"Enter two integers: \").split())\n\n    # Calculate the sum of the two integers\n    sum = a + b\n\n    # Print the sum\n    print(\"Sum:\", sum)\n\nif __name__ == \"__main__\":\n    main()\n```\n\nThis version of the code uses the `map()` function to convert the user's input into two integers, and the `split()` function to split the user's input into two parts (which are then converted into integers).<|eot_id|>"
          },
          "metadata": {}
        }
      ]
    },
    {
      "cell_type": "code",
      "source": [
        "del inputs, outputs, model\n",
        "torch.cuda.empty_cache()"
      ],
      "metadata": {
        "colab": {
          "base_uri": "https://localhost:8080/",
          "height": 158
        },
        "id": "5jwhHfzSgGpl",
        "outputId": "3a5973eb-133e-426d-f1c3-5e12cbb835ed"
      },
      "execution_count": null,
      "outputs": [
        {
          "output_type": "error",
          "ename": "NameError",
          "evalue": "name 'inputs' is not defined",
          "traceback": [
            "\u001b[0;31m---------------------------------------------------------------------------\u001b[0m",
            "\u001b[0;31mNameError\u001b[0m                                 Traceback (most recent call last)",
            "\u001b[0;32m<ipython-input-12-b69c8502d4ed>\u001b[0m in \u001b[0;36m<cell line: 1>\u001b[0;34m()\u001b[0m\n\u001b[0;32m----> 1\u001b[0;31m \u001b[0;32mdel\u001b[0m \u001b[0minputs\u001b[0m\u001b[0;34m,\u001b[0m \u001b[0moutputs\u001b[0m\u001b[0;34m,\u001b[0m \u001b[0mmodel\u001b[0m\u001b[0;34m\u001b[0m\u001b[0;34m\u001b[0m\u001b[0m\n\u001b[0m\u001b[1;32m      2\u001b[0m \u001b[0mtorch\u001b[0m\u001b[0;34m.\u001b[0m\u001b[0mcuda\u001b[0m\u001b[0;34m.\u001b[0m\u001b[0mempty_cache\u001b[0m\u001b[0;34m(\u001b[0m\u001b[0;34m)\u001b[0m\u001b[0;34m\u001b[0m\u001b[0;34m\u001b[0m\u001b[0m\n",
            "\u001b[0;31mNameError\u001b[0m: name 'inputs' is not defined"
          ]
        }
      ]
    }
  ]
}